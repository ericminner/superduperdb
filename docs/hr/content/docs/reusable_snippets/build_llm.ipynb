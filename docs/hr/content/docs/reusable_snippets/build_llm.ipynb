{
 "cells": [
  {
   "cell_type": "markdown",
   "id": "1179a67b-4e40-496b-9851-98f32d42faa0",
   "metadata": {},
   "source": [
    "<!-- TABS -->\n",
    "# Build LLM"
   ]
  },
  {
   "cell_type": "code",
   "execution_count": null,
   "id": "f98e5ff4",
   "metadata": {},
   "outputs": [],
   "source": [
    "# <tab: OpenAI>\n",
    "\n",
    "from superduperdb.ext.openai import OpenAIChatCompletion\n",
    "\n",
    "%pip install openai\n",
    "\n",
    "llm = OpenAIChatCompletion(identifier='llm', model='gpt-3.5-turbo')"
   ]
  },
  {
   "cell_type": "code",
   "execution_count": null,
   "id": "9bf39c47",
   "metadata": {},
   "outputs": [],
   "source": [
    "# <tab: Anthropic>\n",
    "\n",
    "from superduperdb.ext.anthropic import AnthropicCompletions\n",
    "llm = AnthropicCompletions(identifier='llm', model='claude-2')"
   ]
  },
  {
   "cell_type": "code",
   "execution_count": null,
   "id": "95e48deb",
   "metadata": {},
   "outputs": [],
   "source": [
    "# <tab: vLLM>\n",
    "\n",
    "from superduperdb.ext.vllm import VllmModel\n",
    "\n",
    "predict_kwargs = {\n",
    "    \"max_tokens\": 1024,\n",
    "    \"temperature\": 0.8,\n",
    "}\n",
    "\n",
    "\n",
    "llm = VllmModel(\n",
    "    identifier=\"llm\",\n",
    "    model_name=\"TheBloke/Mistral-7B-Instruct-v0.2-AWQ\",\n",
    "    vllm_kwargs={\n",
    "        \"gpu_memory_utilization\": 0.7,\n",
    "        \"max_model_len\": 10240,\n",
    "        \"quantization\": \"awq\",\n",
    "    },\n",
    "    predict_kwargs=predict_kwargs,\n",
    ")\n"
   ]
  },
  {
   "cell_type": "code",
   "execution_count": null,
   "id": "fe4ac344",
   "metadata": {},
   "outputs": [],
   "source": [
    "# <tab: Transformers>\n",
    "from superduperdb.ext.transformers import LLM\n",
    "\n",
    "llm = LLM.from_pretrained(\"facebook/opt-125m\", identifier=\"llm\")"
   ]
  },
  {
   "cell_type": "code",
   "execution_count": null,
   "id": "1fdbfae2-af7d-4845-bce5-0cb230e3614e",
   "metadata": {},
   "outputs": [],
   "source": [
    "# <tab: Llama.cpp>\n",
    "%pip install llama-cpp-python\n",
    "\n",
    "# from superduperdb.ext.llamacpp.model import LlamaCpp\n",
    "# llm = LlamaCpp(identifier=\"llm\", model_name_or_path=\"google/gemma-2b-it-GGUF\")"
   ]
  },
  {
   "cell_type": "code",
   "execution_count": null,
   "id": "29f98dca",
   "metadata": {},
   "outputs": [],
   "source": []
  },
  {
   "cell_type": "code",
   "execution_count": null,
   "id": "3778ab16",
   "metadata": {},
   "outputs": [],
   "source": [
    "llm.predict_one('Tell me about SuperDuperDB')"
   ]
  },
  {
   "cell_type": "markdown",
   "id": "7a2715b3-1dbf-47ae-b959-8e4395d19cce",
   "metadata": {},
   "source": [
    "## Use in combination with Prompt"
   ]
  },
  {
   "cell_type": "code",
   "execution_count": null,
   "id": "c28fdaf6",
   "metadata": {},
   "outputs": [],
   "source": [
    "from superduperdb.components.model import SequentialModel, Model\n",
    "\n",
    "prompt_model = Model(\n",
    "    identifier=\"prompt\", object=lambda text: f\"Translate the '{text}' into German: \"\n",
    ")\n",
    "\n",
    "model = SequentialModel(identifier=\"The translator\", predictors=[prompt_model, llm])\n"
   ]
  },
  {
   "cell_type": "code",
   "execution_count": null,
   "id": "ee8fe44f-ea37-4044-9143-6969f9af4773",
   "metadata": {},
   "outputs": [],
   "source": [
    "model.predict_one('Tell me about SuperDuperDB')"
   ]
  },
  {
   "cell_type": "code",
   "execution_count": null,
   "id": "38338c36-9ae7-4a26-8b21-15b1f832d170",
   "metadata": {},
   "outputs": [],
   "source": []
  }
 ],
 "metadata": {
  "kernelspec": {
   "display_name": "Python 3 (ipykernel)",
   "language": "python",
   "name": "python3"
  },
  "language_info": {
   "codemirror_mode": {
    "name": "ipython",
    "version": 3
   },
   "file_extension": ".py",
   "mimetype": "text/x-python",
   "name": "python",
   "nbconvert_exporter": "python",
   "pygments_lexer": "ipython3",
   "version": "3.10.7"
  }
 },
 "nbformat": 4,
 "nbformat_minor": 5
}
