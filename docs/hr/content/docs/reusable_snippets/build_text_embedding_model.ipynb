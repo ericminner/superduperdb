{
 "cells": [
  {
   "cell_type": "markdown",
   "id": "c9a2cd87-723f-4cee-87c7-9b8181c9e54b",
   "metadata": {},
   "source": [
    "<!-- TABS -->\n",
    "# Build text embedding model"
   ]
  },
  {
   "cell_type": "code",
   "execution_count": null,
   "id": "a9b1f538-65ca-499e-b6d0-2dd733f81723",
   "metadata": {},
   "outputs": [],
   "source": [
    "# <tab: OpenAI>\n",
    "%pip install openai\n",
    "\n",
    "from superduperdb.ext.openai import OpenAIEmbedding\n",
    "model = OpenAIEmbedding(identifier='text-embedding-ada-002')"
   ]
  },
  {
   "cell_type": "code",
   "execution_count": null,
   "id": "e83facd8-8823-492f-a2c6-659f38d8e6ec",
   "metadata": {},
   "outputs": [],
   "source": [
    "# <tab: JinaAI>\n",
    "..."
   ]
  },
  {
   "cell_type": "code",
   "execution_count": null,
   "id": "3b4a9a60-41df-461d-b165-1d136ee25694",
   "metadata": {},
   "outputs": [],
   "source": [
    "# <tab: Sentence-Transformers>\n",
    "\n",
    "%pip install sentence-transformers\n",
    "\n",
    "from superduperdb import vector\n",
    "import sentence_transformers\n",
    "from superduperdb.ext.sentence_transformers import SentenceTransformer\n",
    "\n",
    "model = SentenceTransformer(\n",
    "    identifier=\"embedding\",\n",
    "    object=sentence_transformers.SentenceTransformer(\"sentence-transformers/all-MiniLM-L6-v2\"),\n",
    "    datatype=vector(shape=(1024,)),\n",
    "    postprocess=lambda x: x.tolist(),\n",
    "    predict_kwargs={\"show_progress_bar\": True},\n",
    ")"
   ]
  },
  {
   "cell_type": "code",
   "execution_count": null,
   "id": "b1219380-13ce-4301-90e6-6ede2eee1497",
   "metadata": {},
   "outputs": [],
   "source": [
    "# <tab: Transformers>\n",
    "\n",
    "..."
   ]
  },
  {
   "cell_type": "code",
   "execution_count": null,
   "id": "dee9b68e-9c8f-4779-895a-0c2a8547b4d5",
   "metadata": {},
   "outputs": [],
   "source": [
    "model.predict_one(\"What is SuperDuperDB\")"
   ]
  },
  {
   "cell_type": "code",
   "execution_count": null,
   "id": "0af93f6c-fb95-495d-8e4e-b1a771d674d3",
   "metadata": {},
   "outputs": [],
   "source": []
  }
 ],
 "metadata": {
  "kernelspec": {
   "display_name": "Python 3 (ipykernel)",
   "language": "python",
   "name": "python3"
  },
  "language_info": {
   "codemirror_mode": {
    "name": "ipython",
    "version": 3
   },
   "file_extension": ".py",
   "mimetype": "text/x-python",
   "name": "python",
   "nbconvert_exporter": "python",
   "pygments_lexer": "ipython3",
   "version": "3.10.7"
  }
 },
 "nbformat": 4,
 "nbformat_minor": 5
}
