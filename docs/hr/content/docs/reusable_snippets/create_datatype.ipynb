{
 "cells": [
  {
   "cell_type": "markdown",
   "id": "b31257e4-06fa-4cc7-9626-bb4d03fdc029",
   "metadata": {},
   "source": [
    "<!-- TABS -->\n",
    "# Create datatype"
   ]
  },
  {
   "cell_type": "code",
   "execution_count": 1,
   "id": "1f8b6a95-006d-43e9-8a6a-2ae90604d8af",
   "metadata": {},
   "outputs": [
    {
     "name": "stderr",
     "output_type": "stream",
     "text": [
      "/Users/zhouhaha/workspace/SuperDuperDB/superduperdb/env/lib/python3.10/site-packages/tqdm/auto.py:21: TqdmWarning: IProgress not found. Please update jupyter and ipywidgets. See https://ipywidgets.readthedocs.io/en/stable/user_install.html\n",
      "  from .autonotebook import tqdm as notebook_tqdm\n",
      "2024-03-21 15:20:57,810\tINFO util.py:154 -- Missing packages: ['ipywidgets']. Run `pip install -U ipywidgets`, then restart the notebook server for rich notebook output.\n"
     ]
    },
    {
     "name": "stdout",
     "output_type": "stream",
     "text": [
      "\u001b[32m 2024-Mar-21 15:20:57.81\u001b[0m| \u001b[1mINFO    \u001b[0m | \u001b[36mzhouhaha-2.local\u001b[0m| \u001b[36msuperduperdb.base.build\u001b[0m:\u001b[36m65  \u001b[0m | \u001b[1mData Client is ready. mongomock.MongoClient('localhost', 27017)\u001b[0m\n",
      "\u001b[32m 2024-Mar-21 15:20:57.82\u001b[0m| \u001b[1mINFO    \u001b[0m | \u001b[36mzhouhaha-2.local\u001b[0m| \u001b[36msuperduperdb.base.build\u001b[0m:\u001b[36m38  \u001b[0m | \u001b[1mConnecting to Metadata Client with engine:  mongomock.MongoClient('localhost', 27017)\u001b[0m\n",
      "\u001b[32m 2024-Mar-21 15:20:57.82\u001b[0m| \u001b[1mINFO    \u001b[0m | \u001b[36mzhouhaha-2.local\u001b[0m| \u001b[36msuperduperdb.base.build\u001b[0m:\u001b[36m148 \u001b[0m | \u001b[1mConnecting to compute client: local\u001b[0m\n",
      "\u001b[32m 2024-Mar-21 15:20:57.82\u001b[0m| \u001b[1mINFO    \u001b[0m | \u001b[36mzhouhaha-2.local\u001b[0m| \u001b[36msuperduperdb.base.datalayer\u001b[0m:\u001b[36m89  \u001b[0m | \u001b[1mBuilding Data Layer\u001b[0m\n"
     ]
    }
   ],
   "source": [
    "from superduperdb import superduper\n",
    "\n",
    "db = superduper(\"mongomock://test\")"
   ]
  },
  {
   "cell_type": "code",
   "execution_count": null,
   "id": "37c30f46-e44d-4a3b-9cd7-76b5ff1765a5",
   "metadata": {},
   "outputs": [],
   "source": [
    "1. fill the reuseable_snippets\n",
    "2. test the snippets"
   ]
  },
  {
   "cell_type": "code",
   "execution_count": 2,
   "id": "9ab5581c-0500-4a22-a9fd-bad8debd0314",
   "metadata": {},
   "outputs": [
    {
     "data": {
      "text/plain": [
       "([],\n",
       " DataType(identifier='vector[1024]', encoder=None, decoder=None, info=None, shape=(1024,), directory=None, encodable='native', bytes_encoding=<BytesEncoding.BYTES: 'Bytes'>))"
      ]
     },
     "execution_count": 2,
     "metadata": {},
     "output_type": "execute_result"
    }
   ],
   "source": [
    "# <tab: Vector>\n",
    "from superduperdb import vector\n",
    "db.add(vector(shape=(1024, )))"
   ]
  },
  {
   "cell_type": "code",
   "execution_count": 7,
   "id": "0fd1f632-fc4d-4e21-9610-51bad591bbf1",
   "metadata": {},
   "outputs": [],
   "source": [
    "# <tab: Tensor>\n",
    "from superduperdb.ext.torch import tensor\n",
    "import torch\n",
    "\n",
    "datatype = tensor(torch.float, shape=(32, ))\n",
    "\n",
    "origin_data = torch.randn(32)"
   ]
  },
  {
   "cell_type": "code",
   "execution_count": 32,
   "id": "9326e078-c54f-4966-afc7-a22cad48ff31",
   "metadata": {},
   "outputs": [],
   "source": [
    "# <tab: Array>\n",
    "..."
   ]
  },
  {
   "cell_type": "code",
   "execution_count": null,
   "id": "5bba2555-da0b-46f2-9a1a-00c5fa107ecc",
   "metadata": {},
   "outputs": [],
   "source": [
    "# <tab: Image>\n",
    "from superduperdb.ext.pillow import pil_image"
   ]
  },
  {
   "cell_type": "code",
   "execution_count": null,
   "id": "876cfb3b-8d2f-4950-86fb-4bf65accfb98",
   "metadata": {},
   "outputs": [],
   "source": [
    "# <tab: Audio>\n",
    "..."
   ]
  },
  {
   "cell_type": "code",
   "execution_count": null,
   "id": "e844c762-3391-401d-9047-ed8617a9c946",
   "metadata": {},
   "outputs": [],
   "source": [
    "# <tab: Video>\n",
    "..."
   ]
  },
  {
   "cell_type": "code",
   "execution_count": null,
   "id": "12d70f4b-fecd-4269-98c6-5c0770ac634a",
   "metadata": {},
   "outputs": [],
   "source": [
    "# <tab: Custom-in-DB>\n",
    "..."
   ]
  },
  {
   "cell_type": "code",
   "execution_count": null,
   "id": "1681d70f-9b64-426f-b619-cbd961f1913e",
   "metadata": {},
   "outputs": [],
   "source": [
    "# <tab: Custom-Artifact>\n",
    "..."
   ]
  },
  {
   "cell_type": "code",
   "execution_count": 6,
   "id": "cf975a6e-4cbc-4579-94e9-81e8ca5770b0",
   "metadata": {},
   "outputs": [
    {
     "data": {
      "text/plain": [
       "([],\n",
       " DataType(identifier='torch.float32[32]', encoder=<superduperdb.ext.torch.encoder.EncodeTensor object at 0x1558a0250>, decoder=<superduperdb.ext.torch.encoder.DecodeTensor object at 0x156987f70>, info=None, shape=(32,), directory=None, encodable='encodable', bytes_encoding=<BytesEncoding.BYTES: 'Bytes'>))"
      ]
     },
     "execution_count": 6,
     "metadata": {},
     "output_type": "execute_result"
    }
   ],
   "source": [
    "db.add(datatype)"
   ]
  },
  {
   "cell_type": "code",
   "execution_count": 31,
   "id": "3e2514a4-949f-43c4-8add-c0bcfec337fb",
   "metadata": {},
   "outputs": [
    {
     "data": {
      "text/plain": [
       "tensor([ 2.3415, -0.0103, -2.1095, -1.1916,  0.6331, -1.3097,  1.2595,  0.3401,\n",
       "        -0.7229, -0.3885,  2.5743,  0.6454, -0.3775,  0.4886, -1.9555, -0.5359,\n",
       "         0.8757, -1.1589,  0.6874,  0.8231,  2.2682,  0.9408,  0.9757,  1.1998,\n",
       "        -0.0802, -0.3858,  2.5389,  0.6865,  2.1118,  1.3119,  0.0190,  0.1519])"
      ]
     },
     "execution_count": 31,
     "metadata": {},
     "output_type": "execute_result"
    }
   ],
   "source": [
    "origin_data"
   ]
  },
  {
   "cell_type": "markdown",
   "id": "7da014de-c656-46d2-b2ee-beebf3199472",
   "metadata": {},
   "source": [
    "## Encode data"
   ]
  },
  {
   "cell_type": "code",
   "execution_count": 28,
   "id": "73744584-3e07-4444-beab-2fd65d9f4816",
   "metadata": {},
   "outputs": [
    {
     "data": {
      "text/plain": [
       "b')\\xdb\\x15@^\\xc9(\\xbc\\x8c\\x02\\x07\\xc0\\x9b\\x85\\x98\\xbf\\xb4\\x11\"?\\xda\\xa2\\xa7\\xbf\\x1e7\\xa1?\\x00!\\xae>\\x90\\r9\\xbfp\\xe4\\xc6\\xbe\\xb4\\xc0$@\\xd96%?.F\\xc1\\xbe\\x93\\'\\xfa>\\xe6L\\xfa\\xbf\\xa12\\t\\xbf\\xdb/`?(X\\x94\\xbf\\xce\\xf6/?\\x93\\xb9R?\\xee)\\x11@\\x85\\xdap?d\\xc6y?S\\x94\\x99?&S\\xa4\\xbdv\\x8c\\xc5\\xbe&}\"@\\xab\\xbd/?n\\'\\x07@\\x82\\xed\\xa7?%\\x8a\\x9b<\\xca\\x8a\\x1b>'"
      ]
     },
     "execution_count": 28,
     "metadata": {},
     "output_type": "execute_result"
    }
   ],
   "source": [
    "data_encoded = datatype.encode_data(origin_data)\n",
    "data_encoded"
   ]
  },
  {
   "cell_type": "code",
   "execution_count": 29,
   "id": "c8cae52a-218b-4843-b806-c44abab312b3",
   "metadata": {},
   "outputs": [
    {
     "data": {
      "text/plain": [
       "tensor([ 2.3415, -0.0103, -2.1095, -1.1916,  0.6331, -1.3097,  1.2595,  0.3401,\n",
       "        -0.7229, -0.3885,  2.5743,  0.6454, -0.3775,  0.4886, -1.9555, -0.5359,\n",
       "         0.8757, -1.1589,  0.6874,  0.8231,  2.2682,  0.9408,  0.9757,  1.1998,\n",
       "        -0.0802, -0.3858,  2.5389,  0.6865,  2.1118,  1.3119,  0.0190,  0.1519])"
      ]
     },
     "execution_count": 29,
     "metadata": {},
     "output_type": "execute_result"
    }
   ],
   "source": [
    "data_decoded = datatype.decode_data(data_encoded)\n",
    "data_decoded"
   ]
  },
  {
   "cell_type": "code",
   "execution_count": null,
   "id": "bffe9ed5-db48-4232-a32c-a2888db3cb2e",
   "metadata": {},
   "outputs": [],
   "source": []
  }
 ],
 "metadata": {
  "kernelspec": {
   "display_name": "Python 3 (ipykernel)",
   "language": "python",
   "name": "python3"
  },
  "language_info": {
   "codemirror_mode": {
    "name": "ipython",
    "version": 3
   },
   "file_extension": ".py",
   "mimetype": "text/x-python",
   "name": "python",
   "nbconvert_exporter": "python",
   "pygments_lexer": "ipython3",
   "version": "3.10.7"
  }
 },
 "nbformat": 4,
 "nbformat_minor": 5
}
